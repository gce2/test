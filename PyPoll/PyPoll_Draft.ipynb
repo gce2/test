{
 "cells": [
  {
   "cell_type": "code",
   "execution_count": 16,
   "metadata": {},
   "outputs": [],
   "source": [
    "import os\n",
    "import csv"
   ]
  },
  {
   "cell_type": "code",
   "execution_count": 17,
   "metadata": {},
   "outputs": [],
   "source": [
    "#Pull in CSV file and create an empty list to stor values\n",
    "pypoll = []\n",
    "with open(r'C:\\Users\\gericks\\Desktop\\USC Homework Submissions\\PythonChallenges\\PyPoll\\03-Python_Homework_Instructions_PyPoll_Resources_election_data.csv') as mycsvfile:\n",
    "        #Create a csvreader object\n",
    "        csv_reader = csv.reader(mycsvfile, delimiter=\",\")\n",
    "        #Loop thru each row in the file and append each row in the pybank list\n",
    "        for row in csv_reader:\n",
    "            pypoll.append(row)"
   ]
  },
  {
   "cell_type": "code",
   "execution_count": 18,
   "metadata": {},
   "outputs": [],
   "source": [
    "#Calculate the total number of votes cast\n",
    "votes = 0\n",
    "for i in pypoll:\n",
    "    votes = votes + 1"
   ]
  },
  {
   "cell_type": "code",
   "execution_count": 20,
   "metadata": {},
   "outputs": [],
   "source": [
    "#Create a list of candidates that received votes and dedup them\n",
    "candidates = []\n",
    "for i in pypoll:\n",
    "    candidates.append(i[2])\n",
    "    \n",
    "candidates_dedup = []\n",
    "for i in candidates:\n",
    "    if i not in candidates_dedup:\n",
    "        candidates_dedup.append(i)"
   ]
  },
  {
   "cell_type": "code",
   "execution_count": 22,
   "metadata": {},
   "outputs": [
    {
     "data": {
      "text/plain": [
       "['Candidate', 'Khan', 'Correy', 'Li', \"O'Tooley\"]"
      ]
     },
     "execution_count": 22,
     "metadata": {},
     "output_type": "execute_result"
    }
   ],
   "source": [
    "candidates_dedup"
   ]
  },
  {
   "cell_type": "code",
   "execution_count": null,
   "metadata": {},
   "outputs": [],
   "source": [
    "#Calculate the total votes of each candidate and the % that each candidate won\n",
    "total_votes_candidate = 0\n",
    "for candidate in candidates_dedup:\n",
    "    voters[]\n",
    "    totalchange = totalchange + int(pybank[i+2][1]) - int(pybank[i+1][1])"
   ]
  },
  {
   "cell_type": "code",
   "execution_count": 23,
   "metadata": {},
   "outputs": [
    {
     "name": "stdout",
     "output_type": "stream",
     "text": [
      "Election Results\n",
      "-------------------------------\n",
      "Total Votes:  3521002\n",
      "-------------------------------\n"
     ]
    }
   ],
   "source": [
    "print('Election Results')\n",
    "print('-------------------------------')\n",
    "print('Total Votes: ', votes)\n",
    "print('-------------------------------')\n"
   ]
  },
  {
   "cell_type": "code",
   "execution_count": null,
   "metadata": {},
   "outputs": [],
   "source": []
  }
 ],
 "metadata": {
  "kernelspec": {
   "display_name": "Python 3",
   "language": "python",
   "name": "python3"
  },
  "language_info": {
   "codemirror_mode": {
    "name": "ipython",
    "version": 3
   },
   "file_extension": ".py",
   "mimetype": "text/x-python",
   "name": "python",
   "nbconvert_exporter": "python",
   "pygments_lexer": "ipython3",
   "version": "3.7.4"
  }
 },
 "nbformat": 4,
 "nbformat_minor": 2
}
